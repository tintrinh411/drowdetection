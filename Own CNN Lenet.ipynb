{
 "cells": [
  {
   "cell_type": "code",
   "execution_count": 23,
   "id": "bfbf5bf9",
   "metadata": {},
   "outputs": [],
   "source": [
    "import tensorflow as tf\n",
    "from tensorflow.keras import layers\n",
    "from tensorflow.keras import Sequential\n",
    "from tensorflow.keras.models import Model,Sequential\n",
    "from keras.models import Sequential\n",
    "from keras.layers.convolutional import Conv2D\n",
    "from keras.layers.convolutional import MaxPooling2D\n",
    "from keras.layers.core import Activation\n",
    "from keras.layers.core import Flatten\n",
    "from keras.layers.core import Dense\n",
    "from keras.layers import BatchNormalization\n",
    "from keras.layers import Dropout\n",
    "from tensorflow.keras.preprocessing.image import ImageDataGenerator  # Data Augumentation\n",
    "\n"
   ]
  },
  {
   "cell_type": "code",
   "execution_count": 24,
   "id": "ae0998fb",
   "metadata": {},
   "outputs": [],
   "source": [
    "import pandas as pd\n",
    "batchsize=8"
   ]
  },
  {
   "cell_type": "code",
   "execution_count": 25,
   "id": "0ceda75f",
   "metadata": {},
   "outputs": [
    {
     "name": "stdout",
     "output_type": "stream",
     "text": [
      "Found 64662 images belonging to 2 classes.\n",
      "Found 16165 images belonging to 2 classes.\n"
     ]
    }
   ],
   "source": [
    "train_datagen= ImageDataGenerator(rescale=1./255, rotation_range=0.2,shear_range=0.2,\n",
    "    zoom_range=0.2,width_shift_range=0.2,\n",
    "    height_shift_range=0.2, validation_split=0.2)\n",
    "\n",
    "train_data= train_datagen.flow_from_directory(r'D:\\namcuoi\\Driver_Drowsiness_Detection\\MRL eye data\\Prepared_Data\\train',\n",
    "                                target_size=(24,24),batch_size=batchsize,class_mode='categorical',subset='training' )\n",
    "\n",
    "validation_data= train_datagen.flow_from_directory(r'D:\\namcuoi\\Driver_Drowsiness_Detection\\MRL eye data\\Prepared_Data\\train',\n",
    "                                target_size=(24,24),batch_size=batchsize,class_mode='categorical', subset='validation')"
   ]
  },
  {
   "cell_type": "code",
   "execution_count": 26,
   "id": "0ee3893c",
   "metadata": {},
   "outputs": [
    {
     "name": "stdout",
     "output_type": "stream",
     "text": [
      "Found 4071 images belonging to 2 classes.\n"
     ]
    }
   ],
   "source": [
    "test_datagen = ImageDataGenerator(rescale=1./255)\n",
    "\n",
    "test_data = test_datagen.flow_from_directory(r'D:\\namcuoi\\Driver_Drowsiness_Detection\\MRL eye data\\Prepared_Data\\test',\n",
    "                                target_size=(24,24),batch_size=batchsize,class_mode='categorical')"
   ]
  },
  {
   "cell_type": "code",
   "execution_count": 27,
   "id": "68d140ee",
   "metadata": {},
   "outputs": [
    {
     "name": "stdout",
     "output_type": "stream",
     "text": [
      "Found 4071 images belonging to 2 classes.\n"
     ]
    }
   ],
   "source": [
    "test_datagen = ImageDataGenerator(rescale=1./255)\n",
    "\n",
    "test_data = test_datagen.flow_from_directory(r'D:\\namcuoi\\Driver_Drowsiness_Detection\\MRL eye data\\Prepared_Data\\test',\n",
    "                                target_size=(24,24),batch_size=batchsize,class_mode='categorical')"
   ]
  },
  {
   "cell_type": "code",
   "execution_count": 28,
   "id": "940e8e7e",
   "metadata": {},
   "outputs": [],
   "source": [
    "model = Sequential()\n",
    "input_shape = (24, 24, 3) \n",
    "\n",
    "# First set of CONV => RELU => POOL layers\n",
    "model.add(Conv2D(32, (3, 3), padding='same', input_shape=input_shape))\n",
    "model.add(Activation('relu'))\n",
    "model.add(MaxPooling2D(pool_size=(2, 2), strides=(2, 2)))\n",
    "\n",
    "# Second set of CONV => RELU => POOL layers\n",
    "model.add(Conv2D(32, (3, 3), padding='same'))\n",
    "model.add(Activation('relu'))\n",
    "model.add(MaxPooling2D(pool_size=(2, 2), strides=(2, 2)))\n",
    "\n",
    "# First (and only) set of FC => RELU layers\n",
    "model.add(Flatten())\n",
    "model.add(Dense(500))\n",
    "model.add(Activation('relu'))\n",
    "\n",
    "# Softmax classifier\n",
    "model.add(Dense(2))\n",
    "model.add(Activation('softmax'))\n",
    "        \n",
    "\n",
    "\n",
    "\n",
    "        \n"
   ]
  },
  {
   "cell_type": "code",
   "execution_count": 29,
   "id": "a51bd544",
   "metadata": {},
   "outputs": [],
   "source": [
    "from tensorflow.keras.callbacks import ModelCheckpoint,EarlyStopping, ReduceLROnPlateau\n"
   ]
  },
  {
   "cell_type": "code",
   "execution_count": 30,
   "id": "fc577f8a",
   "metadata": {},
   "outputs": [],
   "source": [
    "checkpoint = ModelCheckpoint(r'D:\\namcuoi\\Driver_Drowsiness_Detection\\MRL eye data\\models\\model-own-lenet.h5',\n",
    "                            monitor='val_loss',save_best_only=True,verbose=1)\n",
    "\n",
    "earlystop = EarlyStopping(monitor = 'val_loss', patience=2, verbose= 1, restore_best_weights=True)\n",
    "\n",
    "learning_rate = ReduceLROnPlateau(monitor= 'val_loss', patience=0, verbose= 1,factor=0.2, )\n",
    "\n",
    "callbacks=[checkpoint,earlystop,learning_rate]"
   ]
  },
  {
   "cell_type": "code",
   "execution_count": 31,
   "id": "03cb0ba8",
   "metadata": {},
   "outputs": [
    {
     "name": "stdout",
     "output_type": "stream",
     "text": [
      "Epoch 1/8\n",
      "8078/8082 [============================>.] - ETA: 0s - loss: 0.3119 - accuracy: 0.8585\n",
      "Epoch 1: val_loss improved from inf to 0.35486, saving model to D:\\namcuoi\\Driver_Drowsiness_Detection\\MRL eye data\\models\\model-own-lenet.h5\n",
      "8082/8082 [==============================] - 132s 16ms/step - loss: 0.3119 - accuracy: 0.8585 - val_loss: 0.3549 - val_accuracy: 0.8425 - lr: 0.0010\n",
      "Epoch 2/8\n",
      "8082/8082 [==============================] - ETA: 0s - loss: 0.1437 - accuracy: 0.9459\n",
      "Epoch 2: val_loss improved from 0.35486 to 0.32311, saving model to D:\\namcuoi\\Driver_Drowsiness_Detection\\MRL eye data\\models\\model-own-lenet.h5\n",
      "8082/8082 [==============================] - 104s 13ms/step - loss: 0.1437 - accuracy: 0.9459 - val_loss: 0.3231 - val_accuracy: 0.8668 - lr: 0.0010\n",
      "Epoch 3/8\n",
      "8078/8082 [============================>.] - ETA: 0s - loss: 0.1182 - accuracy: 0.9570\n",
      "Epoch 3: val_loss improved from 0.32311 to 0.30484, saving model to D:\\namcuoi\\Driver_Drowsiness_Detection\\MRL eye data\\models\\model-own-lenet.h5\n",
      "8082/8082 [==============================] - 104s 13ms/step - loss: 0.1182 - accuracy: 0.9570 - val_loss: 0.3048 - val_accuracy: 0.8696 - lr: 0.0010\n",
      "Epoch 4/8\n",
      "8079/8082 [============================>.] - ETA: 0s - loss: 0.1026 - accuracy: 0.9618\n",
      "Epoch 4: val_loss did not improve from 0.30484\n",
      "\n",
      "Epoch 4: ReduceLROnPlateau reducing learning rate to 0.00020000000949949026.\n",
      "8082/8082 [==============================] - 105s 13ms/step - loss: 0.1026 - accuracy: 0.9617 - val_loss: 0.4003 - val_accuracy: 0.8394 - lr: 0.0010\n",
      "Epoch 5/8\n",
      "8082/8082 [==============================] - ETA: 0s - loss: 0.0789 - accuracy: 0.9723\n",
      "Epoch 5: val_loss did not improve from 0.30484\n",
      "Restoring model weights from the end of the best epoch: 3.\n",
      "\n",
      "Epoch 5: ReduceLROnPlateau reducing learning rate to 4.0000001899898055e-05.\n",
      "8082/8082 [==============================] - 105s 13ms/step - loss: 0.0789 - accuracy: 0.9723 - val_loss: 0.3547 - val_accuracy: 0.8554 - lr: 2.0000e-04\n",
      "Epoch 5: early stopping\n"
     ]
    }
   ],
   "source": [
    "# Biên dịch model mạng: mô hình tối ưu optimize: adam \n",
    "model.compile(optimizer=tf.keras.optimizers.Adam(learning_rate=0.001),\n",
    "              loss=tf.keras.losses.categorical_crossentropy,metrics=['accuracy'])\n",
    "\n",
    "history = model.fit(train_data,steps_per_epoch=train_data.samples//batchsize,\n",
    "                   validation_data=validation_data,\n",
    "                   validation_steps=validation_data.samples//batchsize,\n",
    "                   callbacks=callbacks,\n",
    "                    epochs=8)"
   ]
  },
  {
   "cell_type": "code",
   "execution_count": 32,
   "id": "8640f9a9",
   "metadata": {},
   "outputs": [
    {
     "data": {
      "text/html": [
       "<div>\n",
       "<style scoped>\n",
       "    .dataframe tbody tr th:only-of-type {\n",
       "        vertical-align: middle;\n",
       "    }\n",
       "\n",
       "    .dataframe tbody tr th {\n",
       "        vertical-align: top;\n",
       "    }\n",
       "\n",
       "    .dataframe thead th {\n",
       "        text-align: right;\n",
       "    }\n",
       "</style>\n",
       "<table border=\"1\" class=\"dataframe\">\n",
       "  <thead>\n",
       "    <tr style=\"text-align: right;\">\n",
       "      <th></th>\n",
       "      <th>loss</th>\n",
       "      <th>accuracy</th>\n",
       "      <th>val_loss</th>\n",
       "      <th>val_accuracy</th>\n",
       "      <th>lr</th>\n",
       "    </tr>\n",
       "  </thead>\n",
       "  <tbody>\n",
       "    <tr>\n",
       "      <th>0</th>\n",
       "      <td>0.311870</td>\n",
       "      <td>0.858539</td>\n",
       "      <td>0.354855</td>\n",
       "      <td>0.842512</td>\n",
       "      <td>0.0010</td>\n",
       "    </tr>\n",
       "    <tr>\n",
       "      <th>1</th>\n",
       "      <td>0.143690</td>\n",
       "      <td>0.945912</td>\n",
       "      <td>0.323110</td>\n",
       "      <td>0.866770</td>\n",
       "      <td>0.0010</td>\n",
       "    </tr>\n",
       "    <tr>\n",
       "      <th>2</th>\n",
       "      <td>0.118184</td>\n",
       "      <td>0.957017</td>\n",
       "      <td>0.304840</td>\n",
       "      <td>0.869616</td>\n",
       "      <td>0.0010</td>\n",
       "    </tr>\n",
       "    <tr>\n",
       "      <th>3</th>\n",
       "      <td>0.102639</td>\n",
       "      <td>0.961735</td>\n",
       "      <td>0.400258</td>\n",
       "      <td>0.839356</td>\n",
       "      <td>0.0010</td>\n",
       "    </tr>\n",
       "    <tr>\n",
       "      <th>4</th>\n",
       "      <td>0.078859</td>\n",
       "      <td>0.972330</td>\n",
       "      <td>0.354745</td>\n",
       "      <td>0.855446</td>\n",
       "      <td>0.0002</td>\n",
       "    </tr>\n",
       "  </tbody>\n",
       "</table>\n",
       "</div>"
      ],
      "text/plain": [
       "       loss  accuracy  val_loss  val_accuracy      lr\n",
       "0  0.311870  0.858539  0.354855      0.842512  0.0010\n",
       "1  0.143690  0.945912  0.323110      0.866770  0.0010\n",
       "2  0.118184  0.957017  0.304840      0.869616  0.0010\n",
       "3  0.102639  0.961735  0.400258      0.839356  0.0010\n",
       "4  0.078859  0.972330  0.354745      0.855446  0.0002"
      ]
     },
     "execution_count": 32,
     "metadata": {},
     "output_type": "execute_result"
    }
   ],
   "source": [
    "history_df = pd.DataFrame(history.history)\n",
    "history_df"
   ]
  },
  {
   "cell_type": "code",
   "execution_count": 33,
   "id": "a8631d4e",
   "metadata": {},
   "outputs": [
    {
     "data": {
      "image/png": "[encoded data removed]",
      "text/plain": [
       "<Figure size 640x480 with 1 Axes>"
      ]
     },
     "metadata": {},
     "output_type": "display_data"
    },
    {
     "data": {
      "image/png": "[encoded data removed]",
      "text/plain": [
       "<Figure size 640x480 with 1 Axes>"
      ]
     },
     "metadata": {},
     "output_type": "display_data"
    }
   ],
   "source": [
    "import matplotlib.pyplot as plt\n",
    "\n",
    "history_df[['loss','val_loss']].plot(kind='line')\n",
    "plt.xlabel('Epochs')\n",
    "plt.ylabel('Loss')\n",
    "plt.xticks(list(range(5)),list(range(1,6)))\n",
    "plt.show()\n",
    "\n",
    "history_df[['accuracy','val_accuracy']].plot(kind='line')\n",
    "plt.xlabel('Epochs')\n",
    "plt.ylabel('Accuracy')\n",
    "plt.xticks(list(range(5)),list(range(1,6)))\n",
    "plt.show()"
   ]
  },
  {
   "cell_type": "code",
   "execution_count": 34,
   "id": "2dd45020",
   "metadata": {},
   "outputs": [
    {
     "name": "stdout",
     "output_type": "stream",
     "text": [
      "Model: \"sequential_2\"\n",
      "_________________________________________________________________\n",
      " Layer (type)                Output Shape              Param #   \n",
      "=================================================================\n",
      " conv2d_4 (Conv2D)           (None, 24, 24, 32)        896       \n",
      "                                                                 \n",
      " activation_8 (Activation)   (None, 24, 24, 32)        0         \n",
      "                                                                 \n",
      " max_pooling2d_4 (MaxPooling  (None, 12, 12, 32)       0         \n",
      " 2D)                                                             \n",
      "                                                                 \n",
      " conv2d_5 (Conv2D)           (None, 12, 12, 32)        9248      \n",
      "                                                                 \n",
      " activation_9 (Activation)   (None, 12, 12, 32)        0         \n",
      "                                                                 \n",
      " max_pooling2d_5 (MaxPooling  (None, 6, 6, 32)         0         \n",
      " 2D)                                                             \n",
      "                                                                 \n",
      " flatten_2 (Flatten)         (None, 1152)              0         \n",
      "                                                                 \n",
      " dense_4 (Dense)             (None, 500)               576500    \n",
      "                                                                 \n",
      " activation_10 (Activation)  (None, 500)               0         \n",
      "                                                                 \n",
      " dense_5 (Dense)             (None, 2)                 1002      \n",
      "                                                                 \n",
      " activation_11 (Activation)  (None, 2)                 0         \n",
      "                                                                 \n",
      "=================================================================\n",
      "Total params: 587,646\n",
      "Trainable params: 587,646\n",
      "Non-trainable params: 0\n",
      "_________________________________________________________________\n"
     ]
    }
   ],
   "source": [
    "model.summary()\n"
   ]
  }
 ],
 "metadata": {
  "kernelspec": {
   "display_name": "Python 3 (ipykernel)",
   "language": "python",
   "name": "python3"
  },
  "language_info": {
   "codemirror_mode": {
    "name": "ipython",
    "version": 3
   },
   "file_extension": ".py",
   "mimetype": "text/x-python",
   "name": "python",
   "nbconvert_exporter": "python",
   "pygments_lexer": "ipython3",
   "version": "3.9.5"
  }
 },
 "nbformat": 4,
 "nbformat_minor": 5
}
