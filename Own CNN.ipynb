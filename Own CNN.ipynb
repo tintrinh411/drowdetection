{
 "cells": [
  {
   "cell_type": "code",
   "execution_count": 31,
   "id": "0d5d228a",
   "metadata": {},
   "outputs": [],
   "source": [
    "import tensorflow as tf\n",
    "from tensorflow.keras import layers\n",
    "from tensorflow.keras import Sequential\n",
    "from tensorflow.keras.models import Model,Sequential\n",
    "from keras.models import Sequential\n",
    "from keras.layers.convolutional import Conv2D\n",
    "from keras.layers.convolutional import MaxPooling2D\n",
    "from keras.layers.core import Activation\n",
    "from keras.layers.core import Flatten\n",
    "from keras.layers.core import Dense\n",
    "from keras.layers import BatchNormalization\n",
    "from keras.layers import Dropout\n",
    "from keras import backend as K\n",
    "from tensorflow.keras.preprocessing.image import ImageDataGenerator  # Data Augumentation\n",
    "\n"
   ]
  },
  {
   "cell_type": "code",
   "execution_count": 32,
   "id": "950f9ba9",
   "metadata": {},
   "outputs": [],
   "source": [
    "import pandas as pd\n",
    "batchsize=8"
   ]
  },
  {
   "cell_type": "code",
   "execution_count": 33,
   "id": "9d3afcce",
   "metadata": {},
   "outputs": [
    {
     "name": "stdout",
     "output_type": "stream",
     "text": [
      "Found 64662 images belonging to 2 classes.\n",
      "Found 16165 images belonging to 2 classes.\n"
     ]
    }
   ],
   "source": [
    "train_datagen= ImageDataGenerator(rescale=1./255, rotation_range=0.2,shear_range=0.2,\n",
    "    zoom_range=0.2,width_shift_range=0.2,\n",
    "    height_shift_range=0.2, validation_split=0.2)\n",
    "\n",
    "train_data= train_datagen.flow_from_directory(r'D:\\namcuoi\\Driver_Drowsiness_Detection\\MRL eye data\\Prepared_Data\\train',\n",
    "                                target_size=(24,24),batch_size=batchsize,class_mode='categorical',subset='training' )\n",
    "\n",
    "validation_data= train_datagen.flow_from_directory(r'D:\\namcuoi\\Driver_Drowsiness_Detection\\MRL eye data\\Prepared_Data\\train',\n",
    "                                target_size=(24,24),batch_size=batchsize,class_mode='categorical', subset='validation')"
   ]
  },
  {
   "cell_type": "code",
   "execution_count": 34,
   "id": "84caa46c",
   "metadata": {},
   "outputs": [
    {
     "name": "stdout",
     "output_type": "stream",
     "text": [
      "Found 4071 images belonging to 2 classes.\n"
     ]
    }
   ],
   "source": [
    "test_datagen = ImageDataGenerator(rescale=1./255)\n",
    "\n",
    "test_data = test_datagen.flow_from_directory(r'D:\\namcuoi\\Driver_Drowsiness_Detection\\MRL eye data\\Prepared_Data\\test',\n",
    "                                target_size=(24,24),batch_size=batchsize,class_mode='categorical')"
   ]
  },
  {
   "cell_type": "code",
   "execution_count": 35,
   "id": "a848dac6",
   "metadata": {},
   "outputs": [
    {
     "name": "stdout",
     "output_type": "stream",
     "text": [
      "Found 4071 images belonging to 2 classes.\n"
     ]
    }
   ],
   "source": [
    "test_datagen = ImageDataGenerator(rescale=1./255)\n",
    "\n",
    "test_data = test_datagen.flow_from_directory(r'D:\\namcuoi\\Driver_Drowsiness_Detection\\MRL eye data\\Prepared_Data\\test',\n",
    "                                target_size=(24,24),batch_size=batchsize,class_mode='categorical')"
   ]
  },
  {
   "cell_type": "code",
   "execution_count": null,
   "id": "2d1cc993",
   "metadata": {},
   "outputs": [],
   "source": []
  },
  {
   "cell_type": "code",
   "execution_count": null,
   "id": "afcfde97",
   "metadata": {},
   "outputs": [],
   "source": []
  },
  {
   "cell_type": "code",
   "execution_count": null,
   "id": "3a90ffd5",
   "metadata": {},
   "outputs": [],
   "source": []
  },
  {
   "cell_type": "code",
   "execution_count": 36,
   "id": "036ec2ab",
   "metadata": {},
   "outputs": [],
   "source": [
    "#Model Lenet\n",
    "model = Sequential()\n",
    "input_shape = (24, 24, 3) \n",
    "\n",
    "# First set of CONV => RELU => POOL layers\n",
    "model.add(Conv2D(32, (3, 3), padding='same', input_shape=input_shape))\n",
    "model.add(BatchNormalization())\n",
    "model.add(Activation('relu'))\n",
    "model.add(MaxPooling2D(pool_size=(1, 1), strides=(1, 1)))\n",
    "model.add(Dropout(0.25))\n",
    "\n",
    "# Second set of CONV => RELU => POOL layers\n",
    "model.add(Conv2D(32, (3, 3), padding='same'))\n",
    "model.add(BatchNormalization())\n",
    "model.add(Activation('relu'))\n",
    "model.add(MaxPooling2D(pool_size=(2, 2), strides=(2, 2)))\n",
    "model.add(Dropout(0.25))\n",
    "\n",
    "# First (and only) set of FC => RELU layers\n",
    "model.add(Flatten())\n",
    "model.add(Dense(64))\n",
    "model.add(Activation('relu'))\n",
    "\n",
    "# Softmax classifier\n",
    "model.add(Dense(2))\n",
    "model.add(Activation('softmax'))\n",
    "\n",
    "\n",
    "\n",
    "        \n"
   ]
  },
  {
   "cell_type": "code",
   "execution_count": 37,
   "id": "b5da5cd3",
   "metadata": {},
   "outputs": [],
   "source": [
    "from tensorflow.keras.callbacks import ModelCheckpoint,EarlyStopping, ReduceLROnPlateau\n"
   ]
  },
  {
   "cell_type": "code",
   "execution_count": 38,
   "id": "6fbf2549",
   "metadata": {},
   "outputs": [],
   "source": [
    "checkpoint = ModelCheckpoint(r'D:\\namcuoi\\Driver_Drowsiness_Detection\\MRL eye data\\models\\model-own2.h5',\n",
    "                            monitor='val_loss',save_best_only=True,verbose=1)\n",
    "\n",
    "earlystop = EarlyStopping(monitor = 'val_loss', patience=2, verbose= 1, restore_best_weights=True)\n",
    "\n",
    "learning_rate = ReduceLROnPlateau(monitor= 'val_loss', patience=0, verbose= 1,factor=0.2, )\n",
    "\n",
    "callbacks=[checkpoint,earlystop,learning_rate]"
   ]
  },
  {
   "cell_type": "code",
   "execution_count": 39,
   "id": "4898fdcb",
   "metadata": {},
   "outputs": [
    {
     "name": "stdout",
     "output_type": "stream",
     "text": [
      "Epoch 1/6\n",
      "8081/8082 [============================>.] - ETA: 0s - loss: 0.3134 - accuracy: 0.8617\n",
      "Epoch 1: val_loss improved from inf to 0.49272, saving model to D:\\namcuoi\\Driver_Drowsiness_Detection\\MRL eye data\\models\\model-own2.h5\n",
      "8082/8082 [==============================] - 195s 24ms/step - loss: 0.3135 - accuracy: 0.8617 - val_loss: 0.4927 - val_accuracy: 0.7639 - lr: 0.0010\n",
      "Epoch 2/6\n",
      "8080/8082 [============================>.] - ETA: 0s - loss: 0.1740 - accuracy: 0.9310\n",
      "Epoch 2: val_loss improved from 0.49272 to 0.45597, saving model to D:\\namcuoi\\Driver_Drowsiness_Detection\\MRL eye data\\models\\model-own2.h5\n",
      "8082/8082 [==============================] - 124s 15ms/step - loss: 0.1740 - accuracy: 0.9310 - val_loss: 0.4560 - val_accuracy: 0.8015 - lr: 0.0010\n",
      "Epoch 3/6\n",
      "8081/8082 [============================>.] - ETA: 0s - loss: 0.1400 - accuracy: 0.9471\n",
      "Epoch 3: val_loss improved from 0.45597 to 0.38785, saving model to D:\\namcuoi\\Driver_Drowsiness_Detection\\MRL eye data\\models\\model-own2.h5\n",
      "8082/8082 [==============================] - 122s 15ms/step - loss: 0.1400 - accuracy: 0.9470 - val_loss: 0.3879 - val_accuracy: 0.8449 - lr: 0.0010\n",
      "Epoch 4/6\n",
      "8079/8082 [============================>.] - ETA: 0s - loss: 0.1192 - accuracy: 0.9567\n",
      "Epoch 4: val_loss improved from 0.38785 to 0.36138, saving model to D:\\namcuoi\\Driver_Drowsiness_Detection\\MRL eye data\\models\\model-own2.h5\n",
      "8082/8082 [==============================] - 122s 15ms/step - loss: 0.1193 - accuracy: 0.9567 - val_loss: 0.3614 - val_accuracy: 0.8499 - lr: 0.0010\n",
      "Epoch 5/6\n",
      "8079/8082 [============================>.] - ETA: 0s - loss: 0.1072 - accuracy: 0.9605\n",
      "Epoch 5: val_loss improved from 0.36138 to 0.34231, saving model to D:\\namcuoi\\Driver_Drowsiness_Detection\\MRL eye data\\models\\model-own2.h5\n",
      "8082/8082 [==============================] - 124s 15ms/step - loss: 0.1072 - accuracy: 0.9605 - val_loss: 0.3423 - val_accuracy: 0.8593 - lr: 0.0010\n",
      "Epoch 6/6\n",
      "8081/8082 [============================>.] - ETA: 0s - loss: 0.1005 - accuracy: 0.9626\n",
      "Epoch 6: val_loss did not improve from 0.34231\n",
      "\n",
      "Epoch 6: ReduceLROnPlateau reducing learning rate to 0.00020000000949949026.\n",
      "8082/8082 [==============================] - 123s 15ms/step - loss: 0.1005 - accuracy: 0.9626 - val_loss: 0.3785 - val_accuracy: 0.8475 - lr: 0.0010\n"
     ]
    }
   ],
   "source": [
    "# Biên dịch model mạng: mô hình tối ưu optimize: adam \n",
    "model.compile(optimizer=tf.keras.optimizers.Adam(learning_rate=0.001),\n",
    "              loss=tf.keras.losses.categorical_crossentropy,metrics=['accuracy'])\n",
    "\n",
    "history = model.fit(train_data,steps_per_epoch=train_data.samples//batchsize,\n",
    "                   validation_data=validation_data,\n",
    "                   validation_steps=validation_data.samples//batchsize,\n",
    "                   callbacks=callbacks,\n",
    "                    epochs=6)"
   ]
  },
  {
   "cell_type": "code",
   "execution_count": 40,
   "id": "25521a7c",
   "metadata": {},
   "outputs": [
    {
     "data": {
      "text/html": [
       "<div>\n",
       "<style scoped>\n",
       "    .dataframe tbody tr th:only-of-type {\n",
       "        vertical-align: middle;\n",
       "    }\n",
       "\n",
       "    .dataframe tbody tr th {\n",
       "        vertical-align: top;\n",
       "    }\n",
       "\n",
       "    .dataframe thead th {\n",
       "        text-align: right;\n",
       "    }\n",
       "</style>\n",
       "<table border=\"1\" class=\"dataframe\">\n",
       "  <thead>\n",
       "    <tr style=\"text-align: right;\">\n",
       "      <th></th>\n",
       "      <th>loss</th>\n",
       "      <th>accuracy</th>\n",
       "      <th>val_loss</th>\n",
       "      <th>val_accuracy</th>\n",
       "      <th>lr</th>\n",
       "    </tr>\n",
       "  </thead>\n",
       "  <tbody>\n",
       "    <tr>\n",
       "      <th>0</th>\n",
       "      <td>0.313453</td>\n",
       "      <td>0.861664</td>\n",
       "      <td>0.492717</td>\n",
       "      <td>0.763923</td>\n",
       "      <td>0.001</td>\n",
       "    </tr>\n",
       "    <tr>\n",
       "      <th>1</th>\n",
       "      <td>0.173977</td>\n",
       "      <td>0.930971</td>\n",
       "      <td>0.455971</td>\n",
       "      <td>0.801547</td>\n",
       "      <td>0.001</td>\n",
       "    </tr>\n",
       "    <tr>\n",
       "      <th>2</th>\n",
       "      <td>0.139969</td>\n",
       "      <td>0.947041</td>\n",
       "      <td>0.387854</td>\n",
       "      <td>0.844926</td>\n",
       "      <td>0.001</td>\n",
       "    </tr>\n",
       "    <tr>\n",
       "      <th>3</th>\n",
       "      <td>0.119264</td>\n",
       "      <td>0.956693</td>\n",
       "      <td>0.361382</td>\n",
       "      <td>0.849876</td>\n",
       "      <td>0.001</td>\n",
       "    </tr>\n",
       "    <tr>\n",
       "      <th>4</th>\n",
       "      <td>0.107241</td>\n",
       "      <td>0.960513</td>\n",
       "      <td>0.342312</td>\n",
       "      <td>0.859282</td>\n",
       "      <td>0.001</td>\n",
       "    </tr>\n",
       "    <tr>\n",
       "      <th>5</th>\n",
       "      <td>0.100529</td>\n",
       "      <td>0.962647</td>\n",
       "      <td>0.378474</td>\n",
       "      <td>0.847463</td>\n",
       "      <td>0.001</td>\n",
       "    </tr>\n",
       "  </tbody>\n",
       "</table>\n",
       "</div>"
      ],
      "text/plain": [
       "       loss  accuracy  val_loss  val_accuracy     lr\n",
       "0  0.313453  0.861664  0.492717      0.763923  0.001\n",
       "1  0.173977  0.930971  0.455971      0.801547  0.001\n",
       "2  0.139969  0.947041  0.387854      0.844926  0.001\n",
       "3  0.119264  0.956693  0.361382      0.849876  0.001\n",
       "4  0.107241  0.960513  0.342312      0.859282  0.001\n",
       "5  0.100529  0.962647  0.378474      0.847463  0.001"
      ]
     },
     "execution_count": 40,
     "metadata": {},
     "output_type": "execute_result"
    }
   ],
   "source": [
    "history_df = pd.DataFrame(history.history)\n",
    "history_df"
   ]
  },
  {
   "cell_type": "code",
   "execution_count": 41,
   "id": "6e1844d7",
   "metadata": {},
   "outputs": [
    {
     "data": {
      "image/png": "[encoded data removed]",
      "text/plain": [
       "<Figure size 640x480 with 1 Axes>"
      ]
     },
     "metadata": {},
     "output_type": "display_data"
    },
    {
     "data": {
      "image/png": "[encoded data removed]",
      "text/plain": [
       "<Figure size 640x480 with 1 Axes>"
      ]
     },
     "metadata": {},
     "output_type": "display_data"
    }
   ],
   "source": [
    "import matplotlib.pyplot as plt\n",
    "\n",
    "history_df[['loss','val_loss']].plot(kind='line')\n",
    "plt.xlabel('Epochs')\n",
    "plt.ylabel('Loss')\n",
    "plt.xticks(list(range(5)),list(range(1,6)))\n",
    "plt.show()\n",
    "\n",
    "history_df[['accuracy','val_accuracy']].plot(kind='line')\n",
    "plt.xlabel('Epochs')\n",
    "plt.ylabel('Accuracy')\n",
    "plt.xticks(list(range(5)),list(range(1,6)))\n",
    "plt.show()\n"
   ]
  },
  {
   "cell_type": "code",
   "execution_count": 42,
   "id": "90baf602",
   "metadata": {},
   "outputs": [
    {
     "name": "stdout",
     "output_type": "stream",
     "text": [
      "Model: \"sequential_5\"\n",
      "_________________________________________________________________\n",
      " Layer (type)                Output Shape              Param #   \n",
      "=================================================================\n",
      " conv2d_6 (Conv2D)           (None, 24, 24, 32)        896       \n",
      "                                                                 \n",
      " batch_normalization_5 (Batc  (None, 24, 24, 32)       128       \n",
      " hNormalization)                                                 \n",
      "                                                                 \n",
      " activation_5 (Activation)   (None, 24, 24, 32)        0         \n",
      "                                                                 \n",
      " max_pooling2d_5 (MaxPooling  (None, 24, 24, 32)       0         \n",
      " 2D)                                                             \n",
      "                                                                 \n",
      " dropout_1 (Dropout)         (None, 24, 24, 32)        0         \n",
      "                                                                 \n",
      " conv2d_7 (Conv2D)           (None, 24, 24, 32)        9248      \n",
      "                                                                 \n",
      " batch_normalization_6 (Batc  (None, 24, 24, 32)       128       \n",
      " hNormalization)                                                 \n",
      "                                                                 \n",
      " activation_6 (Activation)   (None, 24, 24, 32)        0         \n",
      "                                                                 \n",
      " max_pooling2d_6 (MaxPooling  (None, 12, 12, 32)       0         \n",
      " 2D)                                                             \n",
      "                                                                 \n",
      " dropout_2 (Dropout)         (None, 12, 12, 32)        0         \n",
      "                                                                 \n",
      " flatten (Flatten)           (None, 4608)              0         \n",
      "                                                                 \n",
      " dense (Dense)               (None, 64)                294976    \n",
      "                                                                 \n",
      " activation_7 (Activation)   (None, 64)                0         \n",
      "                                                                 \n",
      " dense_1 (Dense)             (None, 2)                 130       \n",
      "                                                                 \n",
      " activation_8 (Activation)   (None, 2)                 0         \n",
      "                                                                 \n",
      "=================================================================\n",
      "Total params: 305,506\n",
      "Trainable params: 305,378\n",
      "Non-trainable params: 128\n",
      "_________________________________________________________________\n"
     ]
    }
   ],
   "source": [
    "model.summary()\n"
   ]
  }
 ],
 "metadata": {
  "kernelspec": {
   "display_name": "Python 3 (ipykernel)",
   "language": "python",
   "name": "python3"
  },
  "language_info": {
   "codemirror_mode": {
    "name": "ipython",
    "version": 3
   },
   "file_extension": ".py",
   "mimetype": "text/x-python",
   "name": "python",
   "nbconvert_exporter": "python",
   "pygments_lexer": "ipython3",
   "version": "3.9.5"
  }
 },
 "nbformat": 4,
 "nbformat_minor": 5
}
